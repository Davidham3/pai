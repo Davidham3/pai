{
 "cells": [
  {
   "cell_type": "markdown",
   "metadata": {},
   "source": [
    "# Prerequisites\n",
    "Install the `OpenPAI` sdk from `github` and specify your cluster information in `~/.openpai/clusters.yaml`. \n",
    "\n",
    "And for simplicity and security, we recommand user to setup necessary information in `.openpai/defaults.json` other than shown in the example notebook. (Refer to for [README](https://github.com/microsoft/pai/blob/sdk-release-v0.4.00/contrib/python-sdk/README.md) more details.)\n",
    "\n",
    "<font color=red>Please make sure you have set default values for ***cluster-alias***, ***image*** and ***workspace***.</font>\n",
    "If not, use below commands to set them\n",
    "```bash\n",
    "opai set cluster-alias=<your/cluster/alias> workspace=<your/hdfs/workspace>\n",
    "```"
   ]
  },
  {
   "cell_type": "code",
   "execution_count": null,
   "metadata": {},
   "outputs": [],
   "source": [
    "from openpaisdk.command_line import Engine, get_client\n",
    "\n",
    "clusters = Engine().process(['cluster', 'list'])\n",
    "default_values = Engine().process(['set'])\n",
    "\n",
    "assert ('cluster-alias' in default_values or len(clusters)==1) \\\n",
    "    and 'workspace' in default_values, \\\n",
    "    \"Please setup necessary infromation\""
   ]
  },
  {
   "cell_type": "markdown",
   "metadata": {},
   "source": [
    "# Submit a hello-world job\n",
    "\n",
    "The `opai` command can help to generate a simplest job config file from user commands and submit it to job. "
   ]
  },
  {
   "cell_type": "code",
   "execution_count": null,
   "metadata": {},
   "outputs": [],
   "source": [
    "%%writefile hello.sh\n",
    "echo \"Hello, OpenPAI\""
   ]
  },
  {
   "cell_type": "code",
   "execution_count": null,
   "metadata": {},
   "outputs": [],
   "source": [
    "from uuid import uuid4 as randstr\n",
    "job_name = 'test_cli_sub_' + randstr().hex\n",
    "\n",
    "! opai job sub -i jupyter/minimal-notebook -j {job_name} -s hello.sh bash code/hello.sh"
   ]
  },
  {
   "cell_type": "markdown",
   "metadata": {},
   "source": [
    "The generated job_config file will be cached locally for future use."
   ]
  },
  {
   "cell_type": "code",
   "execution_count": null,
   "metadata": {},
   "outputs": [],
   "source": [
    "from openpaisdk import __jobs_cache__\n",
    "import os\n",
    "job_cfg_file = os.path.join(__jobs_cache__, job_name, \"job_config.json\")\n",
    "print(job_cfg_file)"
   ]
  },
  {
   "cell_type": "markdown",
   "metadata": {},
   "source": [
    "# Query job\n",
    "Use `opai job list` command to query the job status"
   ]
  },
  {
   "cell_type": "code",
   "execution_count": null,
   "metadata": {},
   "outputs": [],
   "source": [
    "Engine().process(['job', 'list', job_name])"
   ]
  },
  {
   "cell_type": "code",
   "execution_count": null,
   "metadata": {},
   "outputs": [],
   "source": [
    "from openpaisdk.command_line import Engine\n",
    "import time\n",
    "\n",
    "def wait_for_job(job_name):\n",
    "    state = Engine().process(['job', 'list', job_name])[\"jobStatus\"].get(\"state\", None)\n",
    "\n",
    "    while state not in [\"SUCCEEDED\", \"FAILED\"]:\n",
    "        assert state in [\"WAITING\", \"RUNNING\"], \"uknown status %s\" % state\n",
    "        time.sleep(10)\n",
    "        state = Engine().process(['job', 'list', job_name])[\"jobStatus\"].get(\"state\", None)\n",
    "\n",
    "    assert state == \"SUCCEEDED\", \"job failed\"\n",
    "    print(\"job %s succeeded\" % job_name)\n",
    "\n",
    "wait_for_job(job_name)"
   ]
  },
  {
   "cell_type": "markdown",
   "metadata": {},
   "source": [
    "# Submit a job from existing config file\n",
    "Now we show how to submit job from an existing job config file (the one generated in previous cell, the job name would be changed to avoid conflict). "
   ]
  },
  {
   "cell_type": "code",
   "execution_count": null,
   "metadata": {},
   "outputs": [],
   "source": [
    "job_name_new = 'test_cli_clone_' + randstr().hex\n",
    "\n",
    "! opai job submit -j {job_name_new} --rename {job_cfg_file}\n",
    "\n",
    "wait_for_job(job_name_new)"
   ]
  },
  {
   "cell_type": "code",
   "execution_count": null,
   "metadata": {},
   "outputs": [],
   "source": []
  }
 ],
 "metadata": {
  "kernelspec": {
   "display_name": "Python 3",
   "language": "python",
   "name": "python3"
  },
  "language_info": {
   "codemirror_mode": {
    "name": "ipython",
    "version": 3
   },
   "file_extension": ".py",
   "mimetype": "text/x-python",
   "name": "python",
   "nbconvert_exporter": "python",
   "pygments_lexer": "ipython3",
   "version": "3.6.8"
  }
 },
 "nbformat": 4,
 "nbformat_minor": 2
}
