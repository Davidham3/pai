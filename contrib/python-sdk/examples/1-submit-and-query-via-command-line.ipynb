{
 "cells": [
  {
   "cell_type": "markdown",
   "metadata": {},
   "source": [
    "# Prerequisites\n",
    "Install the `OpenPAI` sdk from `github` and specify your cluster information in `~/.openpai/clusters.json`. And for simplicity and security, we recommand user to setup necessary information in `.openpai/defaults.json` other than shown in the example notebook. (Refer to for [0-install-sdk-specify-openpai-cluster.ipynb]() more details.)\n",
    "\n",
    "<font color=red>Please make sure you have set default values for ***cluster-alias***, ***image*** and ***workspace***.</font>"
   ]
  },
  {
   "cell_type": "code",
   "execution_count": null,
   "metadata": {},
   "outputs": [],
   "source": [
    "from openpaisdk.command_line import Engine, get_client\n",
    "\n",
    "clusters = Engine().process(['cluster', 'list'])\n",
    "default_values = Engine().process(['default', 'list'])\n",
    "\n",
    "assert ('cluster-alias' in default_values or len(clusters)==1) \\\n",
    "    and 'image' in default_values \\\n",
    "    and 'workspace' in default_values, \\\n",
    "    \"Please setup necessary infromation\""
   ]
  },
  {
   "cell_type": "markdown",
   "metadata": {},
   "source": [
    "# Prepare your script locally\n",
    "We prepare an example to show how reuse the same code in local environment and in `OpenPAI` node."
   ]
  },
  {
   "cell_type": "code",
   "execution_count": null,
   "metadata": {},
   "outputs": [],
   "source": [
    "import os\n",
    "os.makedirs('script', exist_ok=True)"
   ]
  },
  {
   "cell_type": "code",
   "execution_count": null,
   "metadata": {},
   "outputs": [],
   "source": [
    "%%writefile script/test.py\n",
    "\n",
    "import os\n",
    "import argparse\n",
    "from openpaisdk.core import in_job_container\n",
    "\n",
    "def say_hi(name):\n",
    "    if in_job_container():\n",
    "        print('Hello, {}! I am in a container: {}'.format(name, os.environ['PAI_CONTAINER_ID']))\n",
    "    else:\n",
    "        print('Hello, {}! I am from local script: {}'.format(name, __file__))\n",
    "\n",
    "if __name__ == '__main__':\n",
    "    parser = argparse.ArgumentParser()\n",
    "    parser.add_argument('name', help='your name')\n",
    "    args = parser.parse_args()\n",
    "    say_hi(args.name)"
   ]
  },
  {
   "cell_type": "code",
   "execution_count": null,
   "metadata": {},
   "outputs": [],
   "source": [
    "! python script/test.py Alice"
   ]
  },
  {
   "cell_type": "markdown",
   "metadata": {},
   "source": [
    "# Submit in the easiest way\n",
    "For the jobs that are simple (e.g. with only one task role), the CLI tool provides a shortcut to combine create, task and submit into only one command `fast`. "
   ]
  },
  {
   "cell_type": "code",
   "execution_count": null,
   "metadata": {},
   "outputs": [],
   "source": [
    "from uuid import uuid4 as randstr\n",
    "import shutil\n",
    "job_name = 'test_new_cli_fast_' + randstr().hex\n",
    "print(\"newly generated job name\", job_name)\n",
    "\n",
    "# shutil.rmtree('.openpai/jobs')  # uncomment to remove unused cache files\n",
    "\n",
    "! opai job fast -j {job_name} -p simplejson python script/test.py Alice"
   ]
  },
  {
   "cell_type": "markdown",
   "metadata": {},
   "source": [
    "# Submit to `OpenPAI` step by step\n",
    "Now we will submit above command to `OpenPAI` through the `opai job` tool. "
   ]
  },
  {
   "cell_type": "markdown",
   "metadata": {},
   "source": [
    "Since `OpenPAI` doesnot allow duplicated job name, you must define a unique name with `-j <job-name>`. In below commands, we show how to create a job, add packages to install, add task role commands, and the submit it. \n",
    "\n",
    "To simplify user input, the `create` command would set current job as default (by setting default `job-name` to current), and the `submit` command would release the default (by removing `job-name` in default). To disable this, use `--dont-set-as-default` in `create`. "
   ]
  },
  {
   "cell_type": "code",
   "execution_count": null,
   "metadata": {},
   "outputs": [],
   "source": [
    "from uuid import uuid4 as randstr\n",
    "job_name = 'test_new_cli_' + randstr().hex\n",
    "print(\"newly generated job name\", job_name)\n",
    "\n",
    "! opai job new -j {job_name}\n",
    "! opai task add -t main python script/test.py Alice\n",
    "! opai job submit"
   ]
  },
  {
   "cell_type": "markdown",
   "metadata": {},
   "source": [
    "By clicking the printed job link, you may find below line in the `STDOUT`\n",
    "\n",
    "```\n",
    "Hello, Alice! I am in a container: container_e26_1556418566879_0058_01_000002\n",
    "```\n",
    "<font color=red>_The auto fetch of command output is under development_</font>"
   ]
  },
  {
   "cell_type": "markdown",
   "metadata": {},
   "source": [
    "# Deal with more complicated jobs\n",
    "Here we will have a try with adding `requirements` (e.g. python packages to be installed, data mapping links) to the job. "
   ]
  },
  {
   "cell_type": "code",
   "execution_count": null,
   "metadata": {},
   "outputs": [],
   "source": [
    "from uuid import uuid4 as randstr\n",
    "job_name = 'test_new_cli_' + randstr().hex\n",
    "print(\"newly generated job name\", job_name)\n",
    "\n",
    "! opai job new -j {job_name}\n",
    "\n",
    "! opai require pip simplejson\n",
    "! opai require weblink http://proceedings.mlr.press/v80/bender18a/bender18a.pdf papers\n",
    "\n",
    "! opai task add -t main ls papers\n",
    "\n",
    "! opai job submit"
   ]
  },
  {
   "cell_type": "markdown",
   "metadata": {},
   "source": [
    "# Query submitted jobs\n",
    "You may use `opai job list` to query more informaiton about the job. "
   ]
  },
  {
   "cell_type": "code",
   "execution_count": null,
   "metadata": {},
   "outputs": [],
   "source": []
  }
 ],
 "metadata": {
  "kernelspec": {
   "display_name": "Python 3",
   "language": "python",
   "name": "python3"
  },
  "language_info": {
   "codemirror_mode": {
    "name": "ipython",
    "version": 3
   },
   "file_extension": ".py",
   "mimetype": "text/x-python",
   "name": "python",
   "nbconvert_exporter": "python",
   "pygments_lexer": "ipython3",
   "version": "3.6.8"
  }
 },
 "nbformat": 4,
 "nbformat_minor": 2
}
