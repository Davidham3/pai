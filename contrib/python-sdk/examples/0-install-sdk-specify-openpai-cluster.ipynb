{
 "cells": [
  {
   "cell_type": "markdown",
   "metadata": {},
   "source": [
    "# Install the SDK\n",
    "Now the source codes of this sdk is hosted in `OpenPAI` git repo (https://github.com/microsoft/pai/contrib/python-sdk). It can be installed by `pip install` command as below\n",
    "```bash\n",
    "python -m pip install --upgrade pip\n",
    "pip install -U -e \"git+https://github.com/Microsoft/pai@sdk-preview-v0.2#egg=openpaisdk&subdirectory=contrib/python-sdk\"\n",
    "```"
   ]
  },
  {
   "cell_type": "markdown",
   "metadata": {},
   "source": [
    "*Note: now the code in a feature developping branch, will merge to master if stable*\n",
    "\n",
    "*Note 2: Restarting the kernel may be required to let python load the newly installed package*\n",
    "\n",
    "After installation, check it."
   ]
  },
  {
   "cell_type": "code",
   "execution_count": null,
   "metadata": {},
   "outputs": [],
   "source": [
    "import openpaisdk\n",
    "print(openpaisdk.__version__)\n",
    "print(openpaisdk.__sdk_branch__)"
   ]
  },
  {
   "cell_type": "markdown",
   "metadata": {},
   "source": [
    "And also check the command line interface (CLI) tool `opai`"
   ]
  },
  {
   "cell_type": "code",
   "execution_count": null,
   "metadata": {},
   "outputs": [],
   "source": [
    "! opai -h"
   ]
  },
  {
   "cell_type": "markdown",
   "metadata": {},
   "source": [
    "# Sepcify `OpenPAI` cluster infomation\n",
    "As you may notice in the CLI tool help text, you may specify you clusters *(maybe more than one)* in a `Json` file (`~/.openpai/clusters.json`). Like `HDfS` configuration, we alias every cluster config for convenience.  \n",
    "\n",
    "Here is an exmple of config file. \n",
    "\n",
    "```json\n",
    "[\n",
    "    {\n",
    "        \"alias\": \"cluster-alias-1\",\n",
    "        \"pai_uri\": \"http://x.x.x.x\",\n",
    "        \"user\": \"user name\",\n",
    "        \"passwd\": \"password\",\n",
    "        \"storages\":[\n",
    "            {\n",
    "                \"alias\": \"default\",\n",
    "                \"protocol\": \"webHDFS\",\n",
    "                \"hdfs_web_uri\": \"http://x.x.x.x:yyyy\"\n",
    "            }\n",
    "        ]\n",
    "    }\n",
    "]\n",
    "```\n",
    "\n",
    "We could use `opai cluster list --name` to show all cluster aliases, and `opai -a <alias> cluster` to show the details of it."
   ]
  },
  {
   "cell_type": "code",
   "execution_count": null,
   "metadata": {},
   "outputs": [],
   "source": [
    "! opai cluster -h"
   ]
  },
  {
   "cell_type": "code",
   "execution_count": null,
   "metadata": {},
   "outputs": [],
   "source": [
    "! opai cluster list --name\n",
    "print(\"==========\\n\")\n",
    "! opai cluster list"
   ]
  },
  {
   "cell_type": "markdown",
   "metadata": {},
   "source": [
    "## Setup default variables to simplify further commands\n",
    "Some command arguments are oftenly used but seldomly changed, so it is convenient to set it as default. For example, if you have specified more than one cluster informaiton above, you may setup a default one by `opai default`. The default values are stored in `.openpai/defaults.json` in your current working directory. So it would be setup per project.\n",
    "\n",
    "Below example will set the first cluster in your list to be the default one."
   ]
  },
  {
   "cell_type": "code",
   "execution_count": null,
   "metadata": {},
   "outputs": [],
   "source": [
    "from openpaisdk import __cluster_config_file__, from_json_file\n",
    "from openpaisdk.command_line import Engine\n",
    "\n",
    "clusters = from_json_file(__cluster_config_file__)\n",
    "cluster_alias = clusters[0]['alias']\n",
    "\n",
    "Engine().process(['default', 'add', 'cluster-alias=%s' % cluster_alias])\n",
    "# above command is equivalent to `opai default add cluster_alias={cluster_alias}`\n",
    "\n",
    "! opai default list"
   ]
  },
  {
   "cell_type": "markdown",
   "metadata": {},
   "source": [
    "You may also setup default values for other frequently used variables, such as `image` (docker image name) and `workspace` (where to store your job codes and outputs)."
   ]
  },
  {
   "cell_type": "code",
   "execution_count": null,
   "metadata": {},
   "outputs": [],
   "source": []
  }
 ],
 "metadata": {
  "kernelspec": {
   "display_name": "Python 3",
   "language": "python",
   "name": "python3"
  },
  "language_info": {
   "codemirror_mode": {
    "name": "ipython",
    "version": 3
   },
   "file_extension": ".py",
   "mimetype": "text/x-python",
   "name": "python",
   "nbconvert_exporter": "python",
   "pygments_lexer": "ipython3",
   "version": "3.6.8"
  }
 },
 "nbformat": 4,
 "nbformat_minor": 2
}
