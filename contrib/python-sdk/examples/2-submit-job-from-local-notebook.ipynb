{
 "cells": [
  {
   "cell_type": "markdown",
   "metadata": {},
   "source": [
    "# Prerequisites\n",
    "Install the `OpenPAI` sdk from `github` and specify your cluster information in `~/openpai.json` (or somewhere you like). (Refer to for [0-install-sdk-specify-openpai-cluster.ipynb]() more details.)\n",
    "\n",
    "<font color=red>Please make sure you have set default values for ***cluster-alias***, ***image*** and ***workspace***.</font>"
   ]
  },
  {
   "cell_type": "code",
   "execution_count": null,
   "metadata": {},
   "outputs": [],
   "source": [
    "! opai default list"
   ]
  },
  {
   "cell_type": "markdown",
   "metadata": {},
   "source": [
    "# Introduction\n",
    "In this notebook, we will show you how to submit a **local** notebook to a OpenPAI node. This will let you debug your code locally (e.g. with a small batch of data) first, then reuse the code and submit it to `OpenPAI` to ultize the GPUs. \n"
   ]
  },
  {
   "cell_type": "markdown",
   "metadata": {},
   "source": [
    "## Indicate where you are \n",
    "In this case, we need to know whether the code is running inside `OpenPAI` job container or outside (in a local environment). Since the framework launcher of `OpenPAI` would setup some environmental variables (e.g. `PAI_CONTAINER_ID`), we can detect the environment by testing it. The python SDK provides a function `in_job_container` to do this. "
   ]
  },
  {
   "cell_type": "code",
   "execution_count": null,
   "metadata": {},
   "outputs": [],
   "source": [
    "from openpaisdk.core import in_job_container\n",
    "\n",
    "help(in_job_container)"
   ]
  },
  {
   "cell_type": "markdown",
   "metadata": {},
   "source": [
    "## Do what you want\n",
    "Now you can write your own codes as you like. And you may use `in_job_container` to control some code lines only be executed inside or outside the job container. *(Advanced control can also be implemented by passing different value to specific environmental variables).*"
   ]
  },
  {
   "cell_type": "code",
   "execution_count": null,
   "metadata": {},
   "outputs": [],
   "source": [
    "from openpaisdk.core import in_job_container\n",
    "from openpaisdk.notebook import get_notebook_path\n",
    "import os\n",
    "\n",
    "if in_job_container():\n",
    "    print('Hello, OpenPAI! I am in a container', os.environ['PAI_CONTAINER_ID'])\n",
    "else:\n",
    "    print('Hello, OpenPAI! I am from local notebook')"
   ]
  },
  {
   "cell_type": "markdown",
   "metadata": {},
   "source": [
    "# Submit to `OpenPAI`\n",
    "After debugging in your environment, just submit current notebook and let it run."
   ]
  },
  {
   "cell_type": "code",
   "execution_count": null,
   "metadata": {},
   "outputs": [],
   "source": [
    "from openpaisdk.notebook import submit_notebook\n",
    "from openpaisdk.core import in_job_container\n",
    "\n",
    "if not in_job_container():\n",
    "    job_link = submit_notebook(nb_file=\"2-submit-job-from-local-notebook.ipynb\")\n",
    "    print(job_link)\n"
   ]
  },
  {
   "cell_type": "code",
   "execution_count": null,
   "metadata": {},
   "outputs": [],
   "source": []
  }
 ],
 "metadata": {
  "kernelspec": {
   "display_name": "Python 3",
   "language": "python",
   "name": "python3"
  },
  "language_info": {
   "codemirror_mode": {
    "name": "ipython",
    "version": 3
   },
   "file_extension": ".py",
   "mimetype": "text/x-python",
   "name": "python",
   "nbconvert_exporter": "python",
   "pygments_lexer": "ipython3",
   "version": "3.6.8"
  }
 },
 "nbformat": 4,
 "nbformat_minor": 2
}
